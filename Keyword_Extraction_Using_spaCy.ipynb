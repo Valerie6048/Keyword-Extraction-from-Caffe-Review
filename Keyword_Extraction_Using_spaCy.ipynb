{
 "cells": [
  {
   "cell_type": "markdown",
   "id": "d3bf7a99",
   "metadata": {
    "id": "750ea19c"
   },
   "source": [
    "# Code Documentation \n",
    "This code performs keyword extraction from text data stored in a CSV file using spaCy and Pandas libraries.\n",
    "## Import Library\n",
    "\n",
    "- ```pandas```: for reading CSV files and data manipulation.\n",
    "- ```spacy```: for natural language processing tasks such as tokenization and stop word removal.\n",
    "- ```collections.Counter```: for counting occurrences of keywords."
   ]
  },
  {
   "cell_type": "code",
   "execution_count": null,
   "id": "0345ee4b",
   "metadata": {},
   "outputs": [],
   "source": [
    "import pandas as pd\n",
    "import spacy\n",
    "from collections import Counter"
   ]
  },
  {
   "cell_type": "markdown",
   "id": "e9d35daa",
   "metadata": {},
   "source": [
    "## Mounting Google Drive in Google Colab\n",
    "This code mounts Google Drive in Google Colab, enabling access to files stored in Google Drive.\n",
    "\n",
    "Libraries used:\n",
    "- google.colab: for mounting Google Drive in Google Colab."
   ]
  },
  {
   "cell_type": "code",
   "execution_count": 3,
   "id": "BwXTAdzaLZKa",
   "metadata": {
    "colab": {
     "base_uri": "https://localhost:8080/"
    },
    "id": "BwXTAdzaLZKa",
    "outputId": "0e2d4f26-1d40-4a2c-f746-e7331cb7aed2"
   },
   "outputs": [
    {
     "name": "stdout",
     "output_type": "stream",
     "text": [
      "Mounted at /content/drive\n"
     ]
    }
   ],
   "source": [
    "from google.colab import drive\n",
    "drive.mount('/content/drive')"
   ]
  },
  {
   "cell_type": "markdown",
   "id": "701cccad",
   "metadata": {},
   "source": [
    "## Loading spaCy Language Model for English\n",
    "This code loads the spaCy language model for English, which is used for various natural language processing tasks."
   ]
  },
  {
   "cell_type": "code",
   "execution_count": 2,
   "id": "OddlUapDKvkU",
   "metadata": {
    "id": "OddlUapDKvkU"
   },
   "outputs": [],
   "source": [
    "nlp = spacy.load(\"en_core_web_sm\")"
   ]
  },
  {
   "cell_type": "markdown",
   "id": "93cafe1f",
   "metadata": {},
   "source": [
    "## Keyword Extraction Function using spaCy\n",
    "\n",
    "This code defines a function to extract keywords from a given text using the spaCy library.\n",
    "\n",
    "\n",
    "Function to extract keywords from a given text using spaCy.\n",
    "\n",
    "    Parameters:\n",
    "    - text (str): The input text from which keywords are to be extracted.\n",
    "\n",
    "    Returns:\n",
    "    - list of tuples: A list of tuples containing (keyword, frequency) pairs sorted in descending order of frequency.\n",
    "                      Returns an empty list if the input is not a string."
   ]
  },
  {
   "cell_type": "code",
   "execution_count": 16,
   "id": "g1FRPZR2NmUM",
   "metadata": {
    "id": "g1FRPZR2NmUM"
   },
   "outputs": [],
   "source": [
    "def extract_keywords(text):\n",
    "    if isinstance(text, str):\n",
    "        doc = nlp(text)\n",
    "\n",
    "        keyword_freq = Counter()\n",
    "\n",
    "        for token in doc:\n",
    "            if not token.is_stop and not token.is_punct:\n",
    "                if token.text.isalpha():\n",
    "                    keyword_freq[token.text.lower()] += 1\n",
    "\n",
    "        sorted_keywords = sorted(keyword_freq.items(), key=lambda x: x[1], reverse=True)\n",
    "\n",
    "        return sorted_keywords\n",
    "    else:\n",
    "        return [] "
   ]
  },
  {
   "cell_type": "markdown",
   "id": "43352ed7",
   "metadata": {},
   "source": [
    "## Reading CSV File into DataFrame in Google Colab\n",
    "\n",
    "This code snippet reads a CSV file into a DataFrame in Google Colab environment from Google Drive."
   ]
  },
  {
   "cell_type": "code",
   "execution_count": 12,
   "id": "BJ0kZXLUOBrf",
   "metadata": {
    "id": "BJ0kZXLUOBrf"
   },
   "outputs": [],
   "source": [
    "df = pd.read_csv('/content/drive/MyDrive/For Capstone/Collecting data/placedata.csv')"
   ]
  },
  {
   "cell_type": "markdown",
   "id": "09958786",
   "metadata": {},
   "source": [
    "## Performing Keyword Extraction for Each Review Text in a DataFrame\n",
    "\n",
    "This code snippet performs keyword extraction for each review text in a DataFrame and adds the extracted keywords as a new column.\n",
    "\n",
    "Function used:\n",
    "- extract_keywords: A function defined to extract keywords from text using spaCy.\n"
   ]
  },
  {
   "cell_type": "code",
   "execution_count": null,
   "id": "44a72d92",
   "metadata": {
    "colab": {
     "base_uri": "https://localhost:8080/"
    },
    "id": "yQsbQ1RbNs-2",
    "outputId": "626cf94c-a705-4d20-cf4a-4cd9b213a698",
    "scrolled": true
   },
   "outputs": [],
   "source": [
    "df['Keywords'] = df['Review Text'].apply(extract_keywords)"
   ]
  },
  {
   "cell_type": "markdown",
   "id": "18e522d0",
   "metadata": {},
   "source": [
    "## Print the Data from Dataframe df column Review Text and Keywords"
   ]
  },
  {
   "cell_type": "code",
   "execution_count": null,
   "id": "NFObZOs1Pi3H",
   "metadata": {
    "colab": {
     "base_uri": "https://localhost:8080/"
    },
    "id": "NFObZOs1Pi3H",
    "outputId": "03175f7c-8cee-41bf-db0a-dd6cfb1cd69f",
    "scrolled": true
   },
   "outputs": [],
   "source": [
    "df['Review Text','Keywords'].sample(20)"
   ]
  },
  {
   "cell_type": "markdown",
   "id": "bcd928ed",
   "metadata": {},
   "source": [
    "## Saving DataFrame to a New CSV File in Google Colab\n",
    "\n",
    "This code snippet saves the updated DataFrame to a new CSV file in Google Colab environment, specifically in Google Drive.\n"
   ]
  },
  {
   "cell_type": "code",
   "execution_count": null,
   "id": "ljublR9NPrgw",
   "metadata": {
    "id": "ljublR9NPrgw"
   },
   "outputs": [],
   "source": [
    "file_path = '/content/drive/MyDrive/For Capstone/Collecting data/Hasil_Ekstraksi(One Keyword).csv'\n",
    "\n",
    "# Save the updated data to a new CSV file\n",
    "df.to_csv(file_path, index=False)"
   ]
  }
 ],
 "metadata": {
  "colab": {
   "provenance": []
  },
  "kernelspec": {
   "display_name": "Python 3 (ipykernel)",
   "language": "python",
   "name": "python3"
  },
  "language_info": {
   "codemirror_mode": {
    "name": "ipython",
    "version": 3
   },
   "file_extension": ".py",
   "mimetype": "text/x-python",
   "name": "python",
   "nbconvert_exporter": "python",
   "pygments_lexer": "ipython3",
   "version": "3.9.13"
  }
 },
 "nbformat": 4,
 "nbformat_minor": 5
}
